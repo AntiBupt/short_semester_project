{
 "cells": [
  {
   "cell_type": "code",
   "execution_count": 1,
   "metadata": {},
   "outputs": [],
   "source": [
    "import numpy as np\n",
    "import scipy as sp\n",
    "import matplotlib.pyplot as plt\n",
    "import pymysql\n",
    "import pandas as pd"
   ]
  },
  {
   "cell_type": "code",
   "execution_count": null,
   "metadata": {},
   "outputs": [],
   "source": [
    "host=\"localhost\"\n",
    "user=\"\"\n",
    "root=\"\"\n",
    "password=\"\"\n",
    "database=\"\"\n",
    "dimension=3\n",
    "learning_rate=0.01"
   ]
  },
  {
   "cell_type": "markdown",
   "metadata": {},
   "source": [
    "这里用来修改数据库路径和一些超参数"
   ]
  },
  {
   "cell_type": "code",
   "execution_count": 2,
   "metadata": {},
   "outputs": [
    {
     "data": {
      "text/html": [
       "<div>\n",
       "<style scoped>\n",
       "    .dataframe tbody tr th:only-of-type {\n",
       "        vertical-align: middle;\n",
       "    }\n",
       "\n",
       "    .dataframe tbody tr th {\n",
       "        vertical-align: top;\n",
       "    }\n",
       "\n",
       "    .dataframe thead th {\n",
       "        text-align: right;\n",
       "    }\n",
       "</style>\n",
       "<table border=\"1\" class=\"dataframe\">\n",
       "  <thead>\n",
       "    <tr style=\"text-align: right;\">\n",
       "      <th></th>\n",
       "      <th>username</th>\n",
       "      <th>sum(amount)</th>\n",
       "      <th>productName</th>\n",
       "    </tr>\n",
       "  </thead>\n",
       "  <tbody>\n",
       "    <tr>\n",
       "      <th>0</th>\n",
       "      <td>xhdxhd</td>\n",
       "      <td>117.0</td>\n",
       "      <td>dog3</td>\n",
       "    </tr>\n",
       "    <tr>\n",
       "      <th>1</th>\n",
       "      <td>xhdxhd</td>\n",
       "      <td>1.0</td>\n",
       "      <td>dog4</td>\n",
       "    </tr>\n",
       "    <tr>\n",
       "      <th>2</th>\n",
       "      <td>xhdxhd</td>\n",
       "      <td>4013.0</td>\n",
       "      <td>dog1</td>\n",
       "    </tr>\n",
       "    <tr>\n",
       "      <th>3</th>\n",
       "      <td>xhdxhd</td>\n",
       "      <td>1007.0</td>\n",
       "      <td>dog2</td>\n",
       "    </tr>\n",
       "    <tr>\n",
       "      <th>4</th>\n",
       "      <td>xhdxhd</td>\n",
       "      <td>5.0</td>\n",
       "      <td>dog5</td>\n",
       "    </tr>\n",
       "  </tbody>\n",
       "</table>\n",
       "</div>"
      ],
      "text/plain": [
       "  username  sum(amount) productName\n",
       "0   xhdxhd        117.0        dog3\n",
       "1   xhdxhd          1.0        dog4\n",
       "2   xhdxhd       4013.0        dog1\n",
       "3   xhdxhd       1007.0        dog2\n",
       "4   xhdxhd          5.0        dog5"
      ]
     },
     "execution_count": 2,
     "metadata": {},
     "output_type": "execute_result"
    }
   ],
   "source": [
    "db = pymysql.connect(host=host,user=user,password=password,database=database )\n",
    "cursor = db.cursor()\n",
    "exp=\"select username,sum(amount), productName from cart_has_order c, product p where c.categoryId=p.categoryId group by productName;\"\n",
    "data=pd.read_sql(exp,con=db) \n",
    "data"
   ]
  },
  {
   "cell_type": "markdown",
   "metadata": {},
   "source": [
    "有关数据库信息的简单演示"
   ]
  },
  {
   "cell_type": "code",
   "execution_count": 3,
   "metadata": {},
   "outputs": [
    {
     "data": {
      "text/html": [
       "<div>\n",
       "<style scoped>\n",
       "    .dataframe tbody tr th:only-of-type {\n",
       "        vertical-align: middle;\n",
       "    }\n",
       "\n",
       "    .dataframe tbody tr th {\n",
       "        vertical-align: top;\n",
       "    }\n",
       "\n",
       "    .dataframe thead th {\n",
       "        text-align: right;\n",
       "    }\n",
       "</style>\n",
       "<table border=\"1\" class=\"dataframe\">\n",
       "  <thead>\n",
       "    <tr style=\"text-align: right;\">\n",
       "      <th></th>\n",
       "      <th>username</th>\n",
       "    </tr>\n",
       "  </thead>\n",
       "  <tbody>\n",
       "    <tr>\n",
       "      <th>0</th>\n",
       "      <td>stdfojk</td>\n",
       "    </tr>\n",
       "    <tr>\n",
       "      <th>1</th>\n",
       "      <td>xhdxhd</td>\n",
       "    </tr>\n",
       "    <tr>\n",
       "      <th>2</th>\n",
       "      <td>xzcxzc</td>\n",
       "    </tr>\n",
       "    <tr>\n",
       "      <th>3</th>\n",
       "      <td>zzjzzj</td>\n",
       "    </tr>\n",
       "  </tbody>\n",
       "</table>\n",
       "</div>"
      ],
      "text/plain": [
       "  username\n",
       "0  stdfojk\n",
       "1   xhdxhd\n",
       "2   xzcxzc\n",
       "3   zzjzzj"
      ]
     },
     "execution_count": 3,
     "metadata": {},
     "output_type": "execute_result"
    }
   ],
   "source": [
    "exp=\"select username from user group by username;\"\n",
    "data=pd.read_sql(exp,con=db) \n",
    "data"
   ]
  },
  {
   "cell_type": "code",
   "execution_count": 4,
   "metadata": {},
   "outputs": [],
   "source": [
    "all_username=list(data.username)"
   ]
  },
  {
   "cell_type": "code",
   "execution_count": 5,
   "metadata": {},
   "outputs": [
    {
     "data": {
      "text/html": [
       "<div>\n",
       "<style scoped>\n",
       "    .dataframe tbody tr th:only-of-type {\n",
       "        vertical-align: middle;\n",
       "    }\n",
       "\n",
       "    .dataframe tbody tr th {\n",
       "        vertical-align: top;\n",
       "    }\n",
       "\n",
       "    .dataframe thead th {\n",
       "        text-align: right;\n",
       "    }\n",
       "</style>\n",
       "<table border=\"1\" class=\"dataframe\">\n",
       "  <thead>\n",
       "    <tr style=\"text-align: right;\">\n",
       "      <th></th>\n",
       "      <th>productName</th>\n",
       "    </tr>\n",
       "  </thead>\n",
       "  <tbody>\n",
       "    <tr>\n",
       "      <th>0</th>\n",
       "      <td>dog1</td>\n",
       "    </tr>\n",
       "    <tr>\n",
       "      <th>1</th>\n",
       "      <td>dog2</td>\n",
       "    </tr>\n",
       "    <tr>\n",
       "      <th>2</th>\n",
       "      <td>dog3</td>\n",
       "    </tr>\n",
       "    <tr>\n",
       "      <th>3</th>\n",
       "      <td>dog4</td>\n",
       "    </tr>\n",
       "    <tr>\n",
       "      <th>4</th>\n",
       "      <td>dog5</td>\n",
       "    </tr>\n",
       "    <tr>\n",
       "      <th>5</th>\n",
       "      <td>dog6</td>\n",
       "    </tr>\n",
       "  </tbody>\n",
       "</table>\n",
       "</div>"
      ],
      "text/plain": [
       "  productName\n",
       "0        dog1\n",
       "1        dog2\n",
       "2        dog3\n",
       "3        dog4\n",
       "4        dog5\n",
       "5        dog6"
      ]
     },
     "execution_count": 5,
     "metadata": {},
     "output_type": "execute_result"
    }
   ],
   "source": [
    "exp=\"select productName from product group by productName;\"\n",
    "data=pd.read_sql(exp,con=db) \n",
    "data"
   ]
  },
  {
   "cell_type": "code",
   "execution_count": 6,
   "metadata": {},
   "outputs": [],
   "source": [
    "all_product=list(data.productName)"
   ]
  },
  {
   "cell_type": "code",
   "execution_count": 7,
   "metadata": {},
   "outputs": [],
   "source": [
    "def get_order_num(username,product):\n",
    "    cursor = db.cursor()\n",
    "    exp=\"select sum(amount) from cart_has_order c, product p where c.categoryId=p.categoryId and username='\"+username+\"' and productName='\"+product+\"'group by productName; \"\n",
    "    data=pd.read_sql(exp,con=db) \n",
    "    ans=list(data['sum(amount)'])\n",
    "    if ans:\n",
    "        return ans[0]\n",
    "    else :\n",
    "        return 0"
   ]
  },
  {
   "cell_type": "code",
   "execution_count": 8,
   "metadata": {},
   "outputs": [],
   "source": [
    "user_num=len(all_username)\n",
    "product_num=len(all_product)\n",
    "matrix_p=np.zeros((user_num,product_num))\n",
    "matrix_r=np.ones((user_num,product_num))\n",
    "for i in range(user_num):\n",
    "    for j in range(product_num):\n",
    "        matrix_p[i][j]=get_order_num(all_username[i],all_product[j])"
   ]
  },
  {
   "cell_type": "markdown",
   "metadata": {},
   "source": [
    "根据协同过滤算法的要求：构建一个评价（这里用记录代替）矩阵，纵轴（axis=0）代表每个用户，横轴（axis=1）代表每种商品"
   ]
  },
  {
   "cell_type": "code",
   "execution_count": 9,
   "metadata": {},
   "outputs": [
    {
     "data": {
      "text/plain": [
       "array([[0.000e+00, 0.000e+00, 0.000e+00, 0.000e+00, 0.000e+00, 0.000e+00],\n",
       "       [4.012e+03, 1.004e+03, 1.150e+02, 1.000e+00, 5.000e+00, 0.000e+00],\n",
       "       [0.000e+00, 0.000e+00, 0.000e+00, 0.000e+00, 0.000e+00, 0.000e+00],\n",
       "       [1.000e+00, 3.000e+00, 2.000e+00, 0.000e+00, 0.000e+00, 0.000e+00]])"
      ]
     },
     "execution_count": 9,
     "metadata": {},
     "output_type": "execute_result"
    }
   ],
   "source": [
    "matrix_p"
   ]
  },
  {
   "cell_type": "code",
   "execution_count": 10,
   "metadata": {},
   "outputs": [],
   "source": [
    "def collab(matrix,dimension=3,learning_rate=0.01,R=None):\n",
    "    if R is None:\n",
    "        R=np.ones(matrix.shape)\n",
    "    if (matrix.shape)!=R.shape:\n",
    "        print(\"wrong shape\")\n",
    "        return -1\n",
    "    R=R.astype('bool')\n",
    "    user_n=np.size(matrix,axis=1)\n",
    "    goods_n=np.size(matrix,axis=0)\n",
    "    x=np.abs(np.random.randn(goods_n,dimension))\n",
    "    '''x=np.concatenate((x,np.ones((user_n,1))),axis=1)'''\n",
    "    theta=np.abs(np.random.randn(dimension,user_n))\n",
    "    loss=lambda x,theta,matrix,R:np.sum(((np.dot(x,theta))*R-matrix)**2)\n",
    "    '''+lamda_t*np.sum(theta[0:-1,:].^2)+lamda_x*np.sum(x[:,0:-1].^2)'''\n",
    "    grad_x=lambda x,theta,matrix:(np.dot(theta,((np.dot(x,theta)*R)-matrix).T)).T\n",
    "    grad_theta=lambda x,theta,matrix:(np.dot(((np.dot(x,theta)*R)-matrix).T,x)).T\n",
    "    old=1\n",
    "    new=0\n",
    "    count=0\n",
    "    print(loss(x,theta,matrix,R))\n",
    "    LOSS=[]\n",
    "    while old>new:\n",
    "        count+=1\n",
    "        old=loss(x,theta,matrix,R)\n",
    "        LOSS.append(old)\n",
    "        grad_of_x=grad_x(x,theta,matrix)/goods_n\n",
    "        grad_of_theta=grad_theta(x,theta,matrix)/user_n\n",
    "        x=x-learning_rate*grad_of_x\n",
    "        theta=theta-learning_rate*grad_of_theta\n",
    "        new=loss(x,theta,matrix,R)\n",
    "        if count>1600:\n",
    "            print(\"too many iter\")\n",
    "            print(loss(x,theta,matrix,R))\n",
    "            plt.plot(LOSS)\n",
    "            plt.xlabel('training time')\n",
    "            plt.ylabel('loss')\n",
    "            plt.title('loss of model')\n",
    "            return (x,theta)\n",
    "    print (count)\n",
    "    print(loss(x,theta,matrix,R))\n",
    "    plt.plot(LOSS)\n",
    "    plt.xlabel('training time')\n",
    "    plt.ylabel('loss')\n",
    "    plt.title('loss of model')\n",
    "    return (x,theta)"
   ]
  },
  {
   "cell_type": "markdown",
   "metadata": {},
   "source": [
    "这是我之前上吴恩达老师机器学习课程的作业复制过来的。。。如果觉得性能垃圾可以自己找现成的api"
   ]
  },
  {
   "cell_type": "code",
   "execution_count": 11,
   "metadata": {},
   "outputs": [
    {
     "name": "stdout",
     "output_type": "stream",
     "text": [
      "18.66651302865748\n",
      "105\n",
      "18.527940570052515\n"
     ]
    },
    {
     "data": {
      "image/png": "[encoded data removed]",
      "text/plain": [
       "<Figure size 432x288 with 1 Axes>"
      ]
     },
     "metadata": {
      "needs_background": "light"
     },
     "output_type": "display_data"
    }
   ],
   "source": [
    "x,theta=collab(matrix_r,dimension,learning_rate,matrix_p)"
   ]
  },
  {
   "cell_type": "code",
   "execution_count": 12,
   "metadata": {},
   "outputs": [
    {
     "data": {
      "text/plain": [
       "array([[0.50510708, 0.46478111, 0.44136113, 0.9368873 , 0.18892856,\n",
       "        0.32865058],\n",
       "       [0.71370031, 0.24097685, 1.61956261, 0.25585212, 2.34858547,\n",
       "        0.7092498 ],\n",
       "       [0.55571922, 0.14477516, 0.68163485, 0.11800405, 1.85875629,\n",
       "        2.88913122]])"
      ]
     },
     "execution_count": 12,
     "metadata": {},
     "output_type": "execute_result"
    }
   ],
   "source": [
    "theta"
   ]
  },
  {
   "cell_type": "code",
   "execution_count": 15,
   "metadata": {},
   "outputs": [],
   "source": [
    "with open(\"vector.txt\",'w') as f:\n",
    "    f.truncate()\n",
    "    for i in range(product_num):\n",
    "        write_in=''\n",
    "        vec=theta[:,i]\n",
    "        write_in+=all_product[i]\n",
    "        write_in+=\" \"\n",
    "        for j in vec:\n",
    "            write_in+=str(j)\n",
    "            write_in+=\" \"\n",
    "        f.write(write_in+\"\\n\")"
   ]
  }
 ],
 "metadata": {
  "kernelspec": {
   "display_name": "Python 3",
   "language": "python",
   "name": "python3"
  },
  "language_info": {
   "codemirror_mode": {
    "name": "ipython",
    "version": 3
   },
   "file_extension": ".py",
   "mimetype": "text/x-python",
   "name": "python",
   "nbconvert_exporter": "python",
   "pygments_lexer": "ipython3",
   "version": "3.7.3"
  }
 },
 "nbformat": 4,
 "nbformat_minor": 2
}
